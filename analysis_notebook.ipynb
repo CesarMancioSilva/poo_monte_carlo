{
 "cells": [
  {
   "cell_type": "markdown",
   "metadata": {},
   "source": [
    "# Introdução\n",
    "\n",
    "Este projeto de análise de dados explora o comportamento de transações financeiras de clientes a partir de um conjunto de dados extraído da plataforma Kaggle, disponível no seguinte (https://www.kaggle.com/datasets/bkcoban/customer-transactions). O objetivo chave é investigar o padrão de consumo no periodo disponibilizado e inferenciar.\n",
    "\n",
    "As principais perguntas que norteiam a análise são:\n",
    "\n",
    "1. **Como os montantes de transações variam entre as diferentes faixas de valor ao longo dos meses?**\n",
    "   Esta questão busca entender a dinâmica das transações em várias categorias de valor, analisando as tendências sazonais e a relação entre a faixa de preço e o volume de vendas, além de identificar oportunidades para otimização de estratégias de marketing.\n",
    "\n",
    "2. **Qual a probabilidade de que, no próximo mês, o montante total das transações esteja entre 1.950.000 e 2.050.000?**  \n",
    "   Aplicando simulações de Monte Carlo, será possível calcular a probabilidade de o valor total das transações futuras cair dentro de uma faixa específica, fornecendo uma visão probabilística para tomada de decisões.\n",
    "\n",
    "Através dessas análises, este projeto busca não apenas responder às perguntas levantadas, mas também oferecer uma visão mais clara dos padrões de comportamento financeiro dos clientes, facilitando futuras estratégias comerciais e de marketing.\n"
   ]
  },
  {
   "cell_type": "markdown",
   "metadata": {},
   "source": [
    "# Organização do Código\n",
    "\n",
    "Alguns trechos do código deste projeto foram compactados em chamadas de função, com o objetivo de garantir uma melhor organização e compactação dos comandos utilizados. Para isso, foi aplicada a metodologia de **Programação Orientada a Objetos (POO)**, facilitando a reutilização e modularização de código, além de tornar o projeto mais escalável e fácil de manter.\n",
    "\n",
    "A visualização do código orientado a objetos e suas implementações está localizada ao final deste documento, permitindo que todas as operações realizadas, desde o carregamento dos dados até as análises e visualizações, possam ser observadas de maneira compacta e estruturada.\n"
   ]
  },
  {
   "cell_type": "markdown",
   "metadata": {},
   "source": [
    "# Bibliotecas e Módulos Importados\n",
    "\n",
    "Para a realização deste projeto, foram utilizados diversos pacotes e módulos que desempenham funções essenciais na análise de dados e visualizações gráficas. Abaixo estão os principais:\n",
    "\n",
    "- `pandas`: Utilizado para manipulação e análise de dados estruturados em forma de DataFrames.\n",
    "- `matplotlib.pyplot`: Empregado para a criação de visualizações gráficas básicas, como gráficos de linha, barras e setores.\n",
    "- `seaborn`: Uma biblioteca baseada no Matplotlib, que facilita a criação de gráficos estatísticos mais sofisticados e visualmente atraentes.\n",
    "- `numpy`: Utilizado para cálculos matemáticos e operações numéricas eficientes, especialmente para manipulação de arrays.\n",
    "- `scipy.stats`: Oferece funções estatísticas avançadas que auxiliam na análise dos dados.\n",
    "\n",
    "Além dessas bibliotecas populares, foram criados módulos personalizados como `extract_data` e `transform_data`, ambos localizados no arquivo `classes/main.py`. Esses módulos encapsulam as funções de extração e transformação de dados, seguindo a abordagem de programação orientada a objetos (POO) para tornar o código mais modular e reutilizável.\n",
    "\n",
    "O arquivo de dados utilizado, `sample_dataset.csv`, é carregado e processado através do módulo `extract_data`, facilitando a leitura e análise das informações ao longo do projeto.\n"
   ]
  },
  {
   "cell_type": "code",
   "execution_count": 26,
   "metadata": {},
   "outputs": [],
   "source": [
    "from classes.main import extract_data\n",
    "from classes.main import transform_data\n",
    "import pandas as pd\n",
    "import matplotlib.pyplot as plt\n",
    "import numpy as np\n",
    "import seaborn as sns\n",
    "from scipy import stats\n",
    "\n"
   ]
  },
  {
   "cell_type": "code",
   "execution_count": 3,
   "metadata": {},
   "outputs": [
    {
     "name": "stdout",
     "output_type": "stream",
     "text": [
      "Dados de classes/sample_dataset.csv carregados com sucesso.\n",
      "Valores nulos (NA) removidos do Dataframe\n",
      "Valores duplicados removidos do Dataframe\n",
      "O data frame possui 44953 linhas\n"
     ]
    },
    {
     "data": {
      "text/html": [
       "<div>\n",
       "<style scoped>\n",
       "    .dataframe tbody tr th:only-of-type {\n",
       "        vertical-align: middle;\n",
       "    }\n",
       "\n",
       "    .dataframe tbody tr th {\n",
       "        vertical-align: top;\n",
       "    }\n",
       "\n",
       "    .dataframe thead th {\n",
       "        text-align: right;\n",
       "    }\n",
       "</style>\n",
       "<table border=\"1\" class=\"dataframe\">\n",
       "  <thead>\n",
       "    <tr style=\"text-align: right;\">\n",
       "      <th></th>\n",
       "      <th>Customer ID</th>\n",
       "      <th>Name</th>\n",
       "      <th>Surname</th>\n",
       "      <th>Gender</th>\n",
       "      <th>Birthdate</th>\n",
       "      <th>Transaction Amount</th>\n",
       "      <th>Date</th>\n",
       "      <th>Merchant Name</th>\n",
       "      <th>Category</th>\n",
       "    </tr>\n",
       "  </thead>\n",
       "  <tbody>\n",
       "    <tr>\n",
       "      <th>0</th>\n",
       "      <td>752858</td>\n",
       "      <td>Sean</td>\n",
       "      <td>Rodriguez</td>\n",
       "      <td>F</td>\n",
       "      <td>2002-10-20</td>\n",
       "      <td>35.47</td>\n",
       "      <td>2023-04-03</td>\n",
       "      <td>Smith-Russell</td>\n",
       "      <td>Cosmetic</td>\n",
       "    </tr>\n",
       "    <tr>\n",
       "      <th>2</th>\n",
       "      <td>305449</td>\n",
       "      <td>Jacob</td>\n",
       "      <td>Williams</td>\n",
       "      <td>M</td>\n",
       "      <td>1981-10-25</td>\n",
       "      <td>115.97</td>\n",
       "      <td>2023-09-20</td>\n",
       "      <td>Steele Inc</td>\n",
       "      <td>Clothing</td>\n",
       "    </tr>\n",
       "    <tr>\n",
       "      <th>3</th>\n",
       "      <td>988259</td>\n",
       "      <td>Nathan</td>\n",
       "      <td>Snyder</td>\n",
       "      <td>M</td>\n",
       "      <td>1977-10-26</td>\n",
       "      <td>11.31</td>\n",
       "      <td>2023-01-11</td>\n",
       "      <td>Wilson, Wilson and Russell</td>\n",
       "      <td>Cosmetic</td>\n",
       "    </tr>\n",
       "    <tr>\n",
       "      <th>4</th>\n",
       "      <td>764762</td>\n",
       "      <td>Crystal</td>\n",
       "      <td>Knapp</td>\n",
       "      <td>F</td>\n",
       "      <td>1951-11-02</td>\n",
       "      <td>62.21</td>\n",
       "      <td>2023-06-13</td>\n",
       "      <td>Palmer-Hinton</td>\n",
       "      <td>Electronics</td>\n",
       "    </tr>\n",
       "    <tr>\n",
       "      <th>5</th>\n",
       "      <td>576539</td>\n",
       "      <td>Monica</td>\n",
       "      <td>Bartlett</td>\n",
       "      <td>F</td>\n",
       "      <td>2001-10-20</td>\n",
       "      <td>99.14</td>\n",
       "      <td>2023-08-24</td>\n",
       "      <td>Tran, Torres and Joyce</td>\n",
       "      <td>Cosmetic</td>\n",
       "    </tr>\n",
       "  </tbody>\n",
       "</table>\n",
       "</div>"
      ],
      "text/plain": [
       "   Customer ID     Name    Surname Gender   Birthdate  Transaction Amount  \\\n",
       "0       752858     Sean  Rodriguez      F  2002-10-20               35.47   \n",
       "2       305449    Jacob   Williams      M  1981-10-25              115.97   \n",
       "3       988259   Nathan     Snyder      M  1977-10-26               11.31   \n",
       "4       764762  Crystal      Knapp      F  1951-11-02               62.21   \n",
       "5       576539   Monica   Bartlett      F  2001-10-20               99.14   \n",
       "\n",
       "         Date               Merchant Name     Category  \n",
       "0  2023-04-03               Smith-Russell     Cosmetic  \n",
       "2  2023-09-20                  Steele Inc     Clothing  \n",
       "3  2023-01-11  Wilson, Wilson and Russell     Cosmetic  \n",
       "4  2023-06-13               Palmer-Hinton  Electronics  \n",
       "5  2023-08-24      Tran, Torres and Joyce     Cosmetic  "
      ]
     },
     "metadata": {},
     "output_type": "display_data"
    }
   ],
   "source": [
    "data = extract_data('classes/sample_dataset.csv')\n",
    "print(\"O data frame possui 44953 linhas\")\n",
    "display(data.head())"
   ]
  },
  {
   "cell_type": "code",
   "execution_count": 4,
   "metadata": {},
   "outputs": [
    {
     "name": "stdout",
     "output_type": "stream",
     "text": [
      "Formato yyyy/mm/dd da coluna \"Date\" foi separado em mais colunas \"Ano\", \"Mes\" e \"Dia\" no Dataframe\n"
     ]
    },
    {
     "data": {
      "text/html": [
       "<div>\n",
       "<style scoped>\n",
       "    .dataframe tbody tr th:only-of-type {\n",
       "        vertical-align: middle;\n",
       "    }\n",
       "\n",
       "    .dataframe tbody tr th {\n",
       "        vertical-align: top;\n",
       "    }\n",
       "\n",
       "    .dataframe thead th {\n",
       "        text-align: right;\n",
       "    }\n",
       "</style>\n",
       "<table border=\"1\" class=\"dataframe\">\n",
       "  <thead>\n",
       "    <tr style=\"text-align: right;\">\n",
       "      <th></th>\n",
       "      <th>Customer ID</th>\n",
       "      <th>Name</th>\n",
       "      <th>Surname</th>\n",
       "      <th>Gender</th>\n",
       "      <th>Birthdate</th>\n",
       "      <th>Transaction Amount</th>\n",
       "      <th>Date</th>\n",
       "      <th>Merchant Name</th>\n",
       "      <th>Category</th>\n",
       "      <th>Ano</th>\n",
       "      <th>Mes</th>\n",
       "      <th>Dia</th>\n",
       "    </tr>\n",
       "  </thead>\n",
       "  <tbody>\n",
       "    <tr>\n",
       "      <th>0</th>\n",
       "      <td>752858</td>\n",
       "      <td>Sean</td>\n",
       "      <td>Rodriguez</td>\n",
       "      <td>F</td>\n",
       "      <td>2002-10-20</td>\n",
       "      <td>35.47</td>\n",
       "      <td>2023-04-03</td>\n",
       "      <td>Smith-Russell</td>\n",
       "      <td>Cosmetic</td>\n",
       "      <td>2023</td>\n",
       "      <td>04</td>\n",
       "      <td>03</td>\n",
       "    </tr>\n",
       "  </tbody>\n",
       "</table>\n",
       "</div>"
      ],
      "text/plain": [
       "   Customer ID  Name    Surname Gender   Birthdate  Transaction Amount  \\\n",
       "0       752858  Sean  Rodriguez      F  2002-10-20               35.47   \n",
       "\n",
       "         Date  Merchant Name  Category   Ano Mes Dia  \n",
       "0  2023-04-03  Smith-Russell  Cosmetic  2023  04  03  "
      ]
     },
     "metadata": {},
     "output_type": "display_data"
    }
   ],
   "source": [
    "data = transform_data(data,type='split_date',name='Date',format='yyyy/mm/dd')\n",
    "display(data.head(1))"
   ]
  },
  {
   "cell_type": "code",
   "execution_count": 5,
   "metadata": {},
   "outputs": [
    {
     "name": "stdout",
     "output_type": "stream",
     "text": [
      "Nova coluna criada \"Mes Nome\" com o nome dos meses\n"
     ]
    },
    {
     "data": {
      "text/html": [
       "<div>\n",
       "<style scoped>\n",
       "    .dataframe tbody tr th:only-of-type {\n",
       "        vertical-align: middle;\n",
       "    }\n",
       "\n",
       "    .dataframe tbody tr th {\n",
       "        vertical-align: top;\n",
       "    }\n",
       "\n",
       "    .dataframe thead th {\n",
       "        text-align: right;\n",
       "    }\n",
       "</style>\n",
       "<table border=\"1\" class=\"dataframe\">\n",
       "  <thead>\n",
       "    <tr style=\"text-align: right;\">\n",
       "      <th></th>\n",
       "      <th>Customer ID</th>\n",
       "      <th>Name</th>\n",
       "      <th>Surname</th>\n",
       "      <th>Gender</th>\n",
       "      <th>Birthdate</th>\n",
       "      <th>Transaction Amount</th>\n",
       "      <th>Date</th>\n",
       "      <th>Merchant Name</th>\n",
       "      <th>Category</th>\n",
       "      <th>Ano</th>\n",
       "      <th>Mes</th>\n",
       "      <th>Dia</th>\n",
       "      <th>Mes Nome</th>\n",
       "    </tr>\n",
       "  </thead>\n",
       "  <tbody>\n",
       "    <tr>\n",
       "      <th>0</th>\n",
       "      <td>752858</td>\n",
       "      <td>Sean</td>\n",
       "      <td>Rodriguez</td>\n",
       "      <td>F</td>\n",
       "      <td>2002-10-20</td>\n",
       "      <td>35.47</td>\n",
       "      <td>2023-04-03</td>\n",
       "      <td>Smith-Russell</td>\n",
       "      <td>Cosmetic</td>\n",
       "      <td>2023</td>\n",
       "      <td>4</td>\n",
       "      <td>03</td>\n",
       "      <td>Abril</td>\n",
       "    </tr>\n",
       "  </tbody>\n",
       "</table>\n",
       "</div>"
      ],
      "text/plain": [
       "   Customer ID  Name    Surname Gender   Birthdate  Transaction Amount  \\\n",
       "0       752858  Sean  Rodriguez      F  2002-10-20               35.47   \n",
       "\n",
       "         Date  Merchant Name  Category   Ano  Mes Dia Mes Nome  \n",
       "0  2023-04-03  Smith-Russell  Cosmetic  2023    4  03    Abril  "
      ]
     },
     "metadata": {},
     "output_type": "display_data"
    }
   ],
   "source": [
    "data = transform_data(data,type='name_month',column_name='Mes')\n",
    "display(data.head(1))"
   ]
  },
  {
   "cell_type": "code",
   "execution_count": 6,
   "metadata": {},
   "outputs": [
    {
     "name": "stdout",
     "output_type": "stream",
     "text": [
      "dict_keys(['2023'])\n",
      "dict_keys(['Abril', 'Agosto', 'Fevereiro', 'Janeiro', 'Julho', 'Junho', 'Maio', 'Março', 'Outubro', 'Setembro'])\n",
      "Dataset disponibiliza informações das transações de apenas 10 meses de 2023\n"
     ]
    }
   ],
   "source": [
    "print(data.groupby('Ano', observed=False).groups.keys())\n",
    "print(data.groupby('Mes Nome', observed=False).groups.keys())\n",
    "print(\"Dataset disponibiliza informações das transações de apenas 10 meses de 2023\")"
   ]
  },
  {
   "cell_type": "markdown",
   "metadata": {},
   "source": [
    "# Categorização\n",
    " \n",
    "Na análise dos dados referentes aos valores de transação, utilizei as estatísticas descritivas obtidas para definir faixas que permitam categorizar as transações de forma clara e informativa. As estatísticas coletadas indicam os seguintes valores:\n",
    "\n",
    "    25% (Q1): 79.20\n",
    "    50% (Mediana ou Q2): 182.36\n",
    "    75% (Q3): 471.82\n",
    "    Valor Mínimo: 5.01\n",
    "    Valor Máximo: 2999.88\n",
    "\n",
    "Com base nesses valores, proponho a seguinte classificação para as faixas de valores:\n",
    "\n",
    "1. Baixo (até Q1): Defini como \"Baixo\" todas as transações que estão até o primeiro quartil (Q1), ou seja, até 79.20. Esta faixa inclui as transações de menor valor e pode ser interpretada como compras simples ou de baixo custo, refletindo o comportamento de uma parte significativa dos clientes que realizam transações menores.\n",
    "\n",
    "2. Moderado (Q1 a Q2): A faixa \"Moderado\" abrange as transações entre o primeiro quartil (79.20) e a mediana (Q2) de 182.36. Essa categoria representa transações que estão acima da média inferior, indicando um nível de gasto um pouco mais significativo, mas ainda acessível para a maioria dos consumidores.\n",
    "\n",
    "3. Alto (Q2 a Q3): A faixa \"Alto\" foi definida para englobar as transações que variam entre a mediana (182.36) e o terceiro quartil (Q3) de 471.82. Esta classificação abrange transações de maior valor que podem indicar compras mais relevantes ou significativas, potencialmente refletindo uma intenção de gasto mais robusta por parte dos consumidores.\n",
    "\n",
    "4. Muito Alto (acima de Q3): Por fim, a categoria \"Muito Alto\" inclui todas as transações que excedem 471.82. Essa faixa é importante para identificar compras excepcionais ou transações de alto valor, que podem ser representativas de clientes com maior poder aquisitivo ou situações de compras em grande escala.\n",
    "\n",
    "Essas faixas foram definidas com o objetivo de simplificar a análise e facilitar a interpretação dos dados. A utilização dos quartis proporciona uma abordagem baseada em dados reais e distribuições observadas, permitindo uma compreensão mais clara dos padrões de gasto dos clientes e a identificação de segmentos de mercado relevantes."
   ]
  },
  {
   "cell_type": "code",
   "execution_count": 7,
   "metadata": {},
   "outputs": [
    {
     "name": "stdout",
     "output_type": "stream",
     "text": [
      "Adicionando coluna \"Faixa de Valor\" ao Dataframe\n"
     ]
    },
    {
     "data": {
      "text/html": [
       "<div>\n",
       "<style scoped>\n",
       "    .dataframe tbody tr th:only-of-type {\n",
       "        vertical-align: middle;\n",
       "    }\n",
       "\n",
       "    .dataframe tbody tr th {\n",
       "        vertical-align: top;\n",
       "    }\n",
       "\n",
       "    .dataframe thead th {\n",
       "        text-align: right;\n",
       "    }\n",
       "</style>\n",
       "<table border=\"1\" class=\"dataframe\">\n",
       "  <thead>\n",
       "    <tr style=\"text-align: right;\">\n",
       "      <th></th>\n",
       "      <th>Customer ID</th>\n",
       "      <th>Name</th>\n",
       "      <th>Surname</th>\n",
       "      <th>Gender</th>\n",
       "      <th>Birthdate</th>\n",
       "      <th>Transaction Amount</th>\n",
       "      <th>Date</th>\n",
       "      <th>Merchant Name</th>\n",
       "      <th>Category</th>\n",
       "      <th>Ano</th>\n",
       "      <th>Mes</th>\n",
       "      <th>Dia</th>\n",
       "      <th>Mes Nome</th>\n",
       "      <th>Faixa de Valor</th>\n",
       "    </tr>\n",
       "  </thead>\n",
       "  <tbody>\n",
       "    <tr>\n",
       "      <th>0</th>\n",
       "      <td>752858</td>\n",
       "      <td>Sean</td>\n",
       "      <td>Rodriguez</td>\n",
       "      <td>F</td>\n",
       "      <td>2002-10-20</td>\n",
       "      <td>35.47</td>\n",
       "      <td>2023-04-03</td>\n",
       "      <td>Smith-Russell</td>\n",
       "      <td>Cosmetic</td>\n",
       "      <td>2023</td>\n",
       "      <td>4</td>\n",
       "      <td>03</td>\n",
       "      <td>Abril</td>\n",
       "      <td>Baixo</td>\n",
       "    </tr>\n",
       "  </tbody>\n",
       "</table>\n",
       "</div>"
      ],
      "text/plain": [
       "   Customer ID  Name    Surname Gender   Birthdate  Transaction Amount  \\\n",
       "0       752858  Sean  Rodriguez      F  2002-10-20               35.47   \n",
       "\n",
       "         Date  Merchant Name  Category   Ano  Mes Dia Mes Nome Faixa de Valor  \n",
       "0  2023-04-03  Smith-Russell  Cosmetic  2023    4  03    Abril          Baixo  "
      ]
     },
     "execution_count": 7,
     "metadata": {},
     "output_type": "execute_result"
    }
   ],
   "source": [
    "# Definir as faixas e os rótulos\n",
    "bins = [-float('inf'), 79.20, 182.36, 471.82, float('inf')]\n",
    "labels = ['Baixo', 'Moderado', 'Alto', 'Muito Alto']\n",
    "\n",
    "# Criar a nova coluna 'Faixa de Valor'\n",
    "data['Faixa de Valor'] = pd.cut(data['Transaction Amount'], bins=bins, labels=labels)\n",
    "print('Adicionando coluna \"Faixa de Valor\" ao Dataframe')\n",
    "data.head(1)"
   ]
  },
  {
   "cell_type": "code",
   "execution_count": 8,
   "metadata": {},
   "outputs": [
    {
     "name": "stdout",
     "output_type": "stream",
     "text": [
      "Os termos F foram trocados por Mulher no Dataframe\n",
      "Os termos M foram trocados por Homen no Dataframe\n"
     ]
    }
   ],
   "source": [
    "data = transform_data(data,type='replace',column='Gender',old='F',new='Mulher')\n",
    "data = transform_data(data,type='replace',column='Gender',old='M',new='Homen')"
   ]
  },
  {
   "cell_type": "code",
   "execution_count": 29,
   "metadata": {},
   "outputs": [
    {
     "data": {
      "image/png": "[encoded data removed]",
      "text/plain": [
       "<Figure size 1800x600 with 2 Axes>"
      ]
     },
     "metadata": {},
     "output_type": "display_data"
    },
    {
     "data": {
      "text/html": [
       "\n",
       "<div style=\"display: flex; justify-content: space-evenly;\">\n",
       "    <div style=\"margin-right: 20px;\">\n",
       "        <h3>Tabela de Montante por Faixa de Valor</h3>\n",
       "        <table border=\"1\" class=\"dataframe\">\n",
       "  <thead>\n",
       "    <tr style=\"text-align: right;\">\n",
       "      <th>Mês e Faixa de Valor</th>\n",
       "      <th>Mes Nome</th>\n",
       "      <th>Baixo</th>\n",
       "      <th>Moderado</th>\n",
       "      <th>Alto</th>\n",
       "      <th>Muito Alto</th>\n",
       "    </tr>\n",
       "  </thead>\n",
       "  <tbody>\n",
       "    <tr>\n",
       "      <th></th>\n",
       "      <td>Janeiro</td>\n",
       "      <td>55594.10</td>\n",
       "      <td>154338.45</td>\n",
       "      <td>364907.35</td>\n",
       "      <td>1551149.47</td>\n",
       "    </tr>\n",
       "    <tr>\n",
       "      <th></th>\n",
       "      <td>Fevereiro</td>\n",
       "      <td>50024.72</td>\n",
       "      <td>136716.84</td>\n",
       "      <td>318462.28</td>\n",
       "      <td>1416620.75</td>\n",
       "    </tr>\n",
       "    <tr>\n",
       "      <th></th>\n",
       "      <td>Março</td>\n",
       "      <td>59380.00</td>\n",
       "      <td>151735.39</td>\n",
       "      <td>339859.34</td>\n",
       "      <td>1617928.47</td>\n",
       "    </tr>\n",
       "    <tr>\n",
       "      <th></th>\n",
       "      <td>Abril</td>\n",
       "      <td>53112.92</td>\n",
       "      <td>142463.56</td>\n",
       "      <td>338708.60</td>\n",
       "      <td>1545016.13</td>\n",
       "    </tr>\n",
       "    <tr>\n",
       "      <th></th>\n",
       "      <td>Maio</td>\n",
       "      <td>55874.86</td>\n",
       "      <td>153004.37</td>\n",
       "      <td>368241.16</td>\n",
       "      <td>1636081.73</td>\n",
       "    </tr>\n",
       "    <tr>\n",
       "      <th></th>\n",
       "      <td>Junho</td>\n",
       "      <td>53960.34</td>\n",
       "      <td>148495.88</td>\n",
       "      <td>348302.72</td>\n",
       "      <td>1469119.03</td>\n",
       "    </tr>\n",
       "    <tr>\n",
       "      <th></th>\n",
       "      <td>Julho</td>\n",
       "      <td>57870.25</td>\n",
       "      <td>146549.76</td>\n",
       "      <td>358979.88</td>\n",
       "      <td>1676285.99</td>\n",
       "    </tr>\n",
       "    <tr>\n",
       "      <th></th>\n",
       "      <td>Agosto</td>\n",
       "      <td>53401.34</td>\n",
       "      <td>152735.31</td>\n",
       "      <td>365838.49</td>\n",
       "      <td>1574857.74</td>\n",
       "    </tr>\n",
       "    <tr>\n",
       "      <th></th>\n",
       "      <td>Setembro</td>\n",
       "      <td>53384.39</td>\n",
       "      <td>144247.93</td>\n",
       "      <td>347907.51</td>\n",
       "      <td>1514450.42</td>\n",
       "    </tr>\n",
       "  </tbody>\n",
       "</table>\n",
       "    </div>\n",
       "    <div>\n",
       "        <h3>Tabela de Quantidade por Faixa de Valor</h3>\n",
       "        <table border=\"1\" class=\"dataframe\">\n",
       "  <thead>\n",
       "    <tr style=\"text-align: right;\">\n",
       "      <th>Mês e Faixa de Valor</th>\n",
       "      <th>Mes Nome</th>\n",
       "      <th>Baixo</th>\n",
       "      <th>Moderado</th>\n",
       "      <th>Alto</th>\n",
       "      <th>Muito Alto</th>\n",
       "    </tr>\n",
       "  </thead>\n",
       "  <tbody>\n",
       "    <tr>\n",
       "      <th></th>\n",
       "      <td>Janeiro</td>\n",
       "      <td>1231</td>\n",
       "      <td>1248</td>\n",
       "      <td>1230</td>\n",
       "      <td>1200</td>\n",
       "    </tr>\n",
       "    <tr>\n",
       "      <th></th>\n",
       "      <td>Fevereiro</td>\n",
       "      <td>1088</td>\n",
       "      <td>1089</td>\n",
       "      <td>1078</td>\n",
       "      <td>1103</td>\n",
       "    </tr>\n",
       "    <tr>\n",
       "      <th></th>\n",
       "      <td>Março</td>\n",
       "      <td>1285</td>\n",
       "      <td>1222</td>\n",
       "      <td>1161</td>\n",
       "      <td>1246</td>\n",
       "    </tr>\n",
       "    <tr>\n",
       "      <th></th>\n",
       "      <td>Abril</td>\n",
       "      <td>1125</td>\n",
       "      <td>1141</td>\n",
       "      <td>1132</td>\n",
       "      <td>1182</td>\n",
       "    </tr>\n",
       "    <tr>\n",
       "      <th></th>\n",
       "      <td>Maio</td>\n",
       "      <td>1241</td>\n",
       "      <td>1232</td>\n",
       "      <td>1241</td>\n",
       "      <td>1232</td>\n",
       "    </tr>\n",
       "    <tr>\n",
       "      <th></th>\n",
       "      <td>Junho</td>\n",
       "      <td>1182</td>\n",
       "      <td>1188</td>\n",
       "      <td>1176</td>\n",
       "      <td>1150</td>\n",
       "    </tr>\n",
       "    <tr>\n",
       "      <th></th>\n",
       "      <td>Julho</td>\n",
       "      <td>1264</td>\n",
       "      <td>1182</td>\n",
       "      <td>1214</td>\n",
       "      <td>1243</td>\n",
       "    </tr>\n",
       "    <tr>\n",
       "      <th></th>\n",
       "      <td>Agosto</td>\n",
       "      <td>1167</td>\n",
       "      <td>1233</td>\n",
       "      <td>1230</td>\n",
       "      <td>1222</td>\n",
       "    </tr>\n",
       "    <tr>\n",
       "      <th></th>\n",
       "      <td>Setembro</td>\n",
       "      <td>1157</td>\n",
       "      <td>1162</td>\n",
       "      <td>1174</td>\n",
       "      <td>1151</td>\n",
       "    </tr>\n",
       "  </tbody>\n",
       "</table>\n",
       "    </div>\n",
       "</div>\n"
      ],
      "text/plain": [
       "<IPython.core.display.HTML object>"
      ]
     },
     "metadata": {},
     "output_type": "display_data"
    }
   ],
   "source": [
    "# Agrupar por mês e faixa de valor, e somar as transações\n",
    "contribuicao_montante_mensal = data.groupby(['Mes Nome', 'Faixa de Valor'], observed=False)['Transaction Amount'].sum().unstack(fill_value=0)\n",
    "contribuicao_montante_mensal = contribuicao_montante_mensal.drop(index='Outubro')\n",
    "\n",
    "# Agrupar por mês e faixa de valor, e contar as transações\n",
    "contribuicao_quantidade_mensal = data.groupby(['Mes Nome', 'Faixa de Valor'], observed=False)['Transaction Amount'].count().unstack(fill_value=0)\n",
    "contribuicao_quantidade_mensal = contribuicao_quantidade_mensal.drop(index='Outubro')\n",
    "# Criar figura com dois subgráficos\n",
    "fig, ax = plt.subplots(1, 2, figsize=(18, 6))\n",
    "\n",
    "# Gráfico de barras para montante das transações\n",
    "contribuicao_montante_mensal.plot(kind='bar', width=0.8, colormap='Set2', ax=ax[0])\n",
    "ax[0].set_title('Montante das Transações por Faixa de Valor', fontsize=16)\n",
    "ax[0].set_ylabel('Montante', fontsize=14)\n",
    "ax[0].set_xticks(range(len(contribuicao_montante_mensal.index)))\n",
    "ax[0].set_xticklabels(contribuicao_montante_mensal.index, rotation=0)\n",
    "ax[0].legend(title='Faixa de Transação', title_fontsize='13', fontsize='11', bbox_to_anchor=(1, 1))\n",
    "ax[0].grid(axis='y')\n",
    "# Gráfico de barras para quantidade de transações\n",
    "contribuicao_quantidade_mensal.plot(kind='bar', width=0.8, colormap='Set1', ax=ax[1])\n",
    "ax[1].set_title('Quantidade de Transações por Faixa de Valor', fontsize=16)\n",
    "ax[1].set_ylabel('Quantidade de Transações', fontsize=14)\n",
    "ax[1].set_xticks(range(len(contribuicao_quantidade_mensal.index)))\n",
    "ax[1].set_xticklabels(contribuicao_quantidade_mensal.index, rotation=0)\n",
    "ax[1].legend(title='Faixa de Transação', title_fontsize='13', fontsize='11', bbox_to_anchor=(1, 1))\n",
    "ax[1].grid(axis='y')\n",
    "\n",
    "plt.tight_layout()\n",
    "plt.show()\n"
   ]
  },
  {
   "cell_type": "markdown",
   "metadata": {},
   "source": [
    "# Considerações das faixas de valores\n",
    "\n",
    "## Análise do Montante por Faixa de Valor\n",
    "- **Faixa \"Muito Alto\"**: \n",
    "  - O montante total nesta faixa é significativamente superior às outras, variando de aproximadamente **1,4 milhões a 1,6 milhões** por mês.\n",
    "  - Observa-se um crescimento constante nesse montante, especialmente em **maio (1,636,081.73)** e **julho (1,676,285.99)**, indicando um aumento nas transações de alto valor.\n",
    "\n",
    "- **Faixa \"Alto\"**:\n",
    "  - O montante nesta faixa varia entre **339,859.34** e **368,241.16**. Apesar de ser um valor considerável, representa apenas uma fração do montante das transações \"Muito Alto\".\n",
    "  \n",
    "- **Faixa \"Moderado\" e \"Baixo\"**:\n",
    "  - Ambas as faixas apresentam montantes significativamente inferiores, indicando que a maioria das transações está concentrada nas faixas mais altas.\n",
    "\n",
    "## Análise da Quantidade por Faixa de Valor\n",
    "- A quantidade de transações varia consideravelmente entre as faixas:\n",
    "  - A faixa \"Baixo\" possui a maior quantidade de transações, com um pico em **julho (1264)**, o que sugere que muitos consumidores estão fazendo compras menores, mas em maior volume.\n",
    "  - As faixas \"Moderado\" e \"Alto\" apresentam quantidades similares, mas com uma leve tendência de redução, enquanto a faixa \"Muito Alto\" tem o menor número de transações, com uma média de cerca de **1.200** transações por mês.\n",
    "\n",
    "## Relação entre Montante e Quantidade\n",
    "- Há uma relação inversa entre montante e quantidade nas faixas \"Muito Alto\" e \"Alto\":\n",
    "  - Enquanto o montante nessas faixas é elevado, a quantidade de transações é muito baixa, indicando que algumas transações de alto valor são realizadas, mas não são frequentes.\n",
    "  - Em contraste, a faixa \"Baixo\" possui uma alta quantidade de transações, mas com montantes muito baixos.\n",
    "\n",
    "## Conclusão da Análise\n",
    "\n",
    "A análise das transações financeiras revela uma tendência significativa em relação ao montante gerado por produtos de alto valor. Os dados indicam que a faixa \"Muito Alto\" contribui com uma parte substancial do total das vendas, variando de **1,4 milhões a 1,6 milhões** por mês. Isso demonstra que, embora o volume de transações em faixas mais baixas seja maior, o valor agregado das compras de alto valor é consideravelmente mais elevado.\n",
    "\n",
    "Esse padrão sugere que uma estratégia focada em produtos de alto valor não apenas pode aumentar a receita total, mas também pode ser uma forma eficaz de melhorar a rentabilidade da empresa. As transações de maior valor, embora menos frequentes, têm um impacto significativo nas finanças, destacando a importância de promover e incentivar esses produtos.\n",
    "\n",
    "Além disso, a análise indica que as transações em faixas \"Baixo\" e \"Moderado\" são mais comuns, mas representam um montante muito menor em comparação com as transações de alto valor. Isso reforça a ideia de que, para cada venda significativa, é necessário fomentar o interesse por produtos de maior qualidade, o que pode levar a uma percepção de maior valor por parte dos consumidores.\n",
    "\n",
    "Em resumo, com base nos dados analisados, investir em produtos de alto valor é uma estratégia viável que pode não apenas aumentar a receita, mas também reforçar a imagem da marca como uma opção premium no mercado, atraindo consumidores dispostos a pagar mais por qualidade e exclusividade.\n"
   ]
  },
  {
   "cell_type": "code",
   "execution_count": 34,
   "metadata": {},
   "outputs": [
    {
     "data": {
      "image/png": "[encoded data removed]",
      "text/plain": [
       "<Figure size 1400x600 with 1 Axes>"
      ]
     },
     "metadata": {},
     "output_type": "display_data"
    },
    {
     "data": {
      "text/html": [
       "<div>\n",
       "<style scoped>\n",
       "    .dataframe tbody tr th:only-of-type {\n",
       "        vertical-align: middle;\n",
       "    }\n",
       "\n",
       "    .dataframe tbody tr th {\n",
       "        vertical-align: top;\n",
       "    }\n",
       "\n",
       "    .dataframe thead th {\n",
       "        text-align: right;\n",
       "    }\n",
       "</style>\n",
       "<table border=\"1\" class=\"dataframe\">\n",
       "  <thead>\n",
       "    <tr style=\"text-align: right;\">\n",
       "      <th></th>\n",
       "      <th>Transaction Amount</th>\n",
       "    </tr>\n",
       "    <tr>\n",
       "      <th>Mes Nome</th>\n",
       "      <th></th>\n",
       "    </tr>\n",
       "  </thead>\n",
       "  <tbody>\n",
       "    <tr>\n",
       "      <th>Janeiro</th>\n",
       "      <td>2125989.37</td>\n",
       "    </tr>\n",
       "    <tr>\n",
       "      <th>Fevereiro</th>\n",
       "      <td>1921824.59</td>\n",
       "    </tr>\n",
       "    <tr>\n",
       "      <th>Março</th>\n",
       "      <td>2168903.20</td>\n",
       "    </tr>\n",
       "    <tr>\n",
       "      <th>Abril</th>\n",
       "      <td>2079301.21</td>\n",
       "    </tr>\n",
       "    <tr>\n",
       "      <th>Maio</th>\n",
       "      <td>2213202.12</td>\n",
       "    </tr>\n",
       "    <tr>\n",
       "      <th>Junho</th>\n",
       "      <td>2019877.97</td>\n",
       "    </tr>\n",
       "    <tr>\n",
       "      <th>Julho</th>\n",
       "      <td>2239685.88</td>\n",
       "    </tr>\n",
       "    <tr>\n",
       "      <th>Agosto</th>\n",
       "      <td>2146832.88</td>\n",
       "    </tr>\n",
       "    <tr>\n",
       "      <th>Setembro</th>\n",
       "      <td>2059990.25</td>\n",
       "    </tr>\n",
       "    <tr>\n",
       "      <th>Outubro</th>\n",
       "      <td>938395.58</td>\n",
       "    </tr>\n",
       "  </tbody>\n",
       "</table>\n",
       "</div>"
      ],
      "text/plain": [
       "           Transaction Amount\n",
       "Mes Nome                     \n",
       "Janeiro            2125989.37\n",
       "Fevereiro          1921824.59\n",
       "Março              2168903.20\n",
       "Abril              2079301.21\n",
       "Maio               2213202.12\n",
       "Junho              2019877.97\n",
       "Julho              2239685.88\n",
       "Agosto             2146832.88\n",
       "Setembro           2059990.25\n",
       "Outubro             938395.58"
      ]
     },
     "metadata": {},
     "output_type": "display_data"
    }
   ],
   "source": [
    "total_mes = data.groupby(\"Mes Nome\", observed=False)[['Transaction Amount']].sum()\n",
    "\n",
    "ordem_meses = ['Janeiro', 'Fevereiro', 'Março', 'Abril', 'Maio', 'Junho', 'Julho', 'Agosto', 'Setembro', 'Outubro']\n",
    "data['Mes Nome'] = pd.Categorical(data['Mes Nome'], categories=ordem_meses, ordered=True)\n",
    "\n",
    "total_mes.plot(kind='bar', color='skyblue', edgecolor='black',figsize=(14, 6),legend=False)\n",
    "plt.title('Soma das transações em cada mês',fontsize=16)\n",
    "plt.xlabel('')\n",
    "plt.grid(axis='y') \n",
    "plt.xticks(rotation=45)\n",
    "plt.show()\n",
    "display(total_mes)"
   ]
  },
  {
   "cell_type": "markdown",
   "metadata": {},
   "source": [
    "# Considerações sobre a Remoção de Outlier\n",
    "\n",
    "Ao analisar o conjunto de dados, notamos que um dos valores, 938395.58, referente ao mês de outubro, se destaca significativamente dos demais. A presença desse outlier pode impactar a análise estatística, especialmente em testes de normalidade, como o teste de Shapiro-Wilk.\n",
    "\n",
    "Além disso, é importante destacar que os dados de outubro cobrem transações apenas até o dia 14, enquanto os demais meses contêm informações de praticamente todos os dias. Essa discrepância temporal pode explicar parte da diferença substancial entre o valor de outubro e os outros meses. Como os dados de outubro não representam o mês completo, o montante transacional desse mês pode não refletir adequadamente o comportamento real das transações ao longo de um ciclo completo de 30 ou 31 dias.\n",
    "\n",
    "Os outliers são valores que se afastam consideravelmente da tendência geral dos dados e podem influenciar negativamente as estatísticas descritivas, como a média e o desvio padrão. No caso presente, a diferença substancial entre o valor do outlier e os outros dados sugere que ele pode não representar adequadamente a distribuição da amostra. Tal discrepância pode levar a resultados distorcidos em análises subsequentes, uma vez que os testes de normalidade são sensíveis à presença de outliers.\n",
    "\n",
    "Diante disso, a exclusão desse valor pode ser uma abordagem justificável para garantir que a análise reflita mais fielmente a distribuição dos dados. A remoção do outlier permitirá que o teste de normalidade e outras análises estatísticas sejam realizados de forma mais precisa, proporcionando resultados que são mais representativos do comportamento geral dos dados.\n",
    "\n",
    "Essa decisão deve ser baseada em uma compreensão do contexto dos dados e do impacto que esse valor atípico pode ter na análise. Portanto, ao optar por excluir 938395.58, e considerando a cobertura incompleta de outubro, estaremos buscando obter uma avaliação mais robusta da normalidade dos dados e, consequentemente, uma base mais sólida para as conclusões que podemos tirar a partir deles.\n"
   ]
  },
  {
   "cell_type": "code",
   "execution_count": 35,
   "metadata": {},
   "outputs": [
    {
     "name": "stdout",
     "output_type": "stream",
     "text": [
      "Remoção do Outlier\n",
      "[1921824.59, 2168903.2, 2079301.21, 2213202.12, 2019877.97, 2239685.88, 2146832.88, 2059990.25]\n"
     ]
    }
   ],
   "source": [
    "\n",
    "dados = total_mes['Transaction Amount'].tolist()\n",
    "dados=dados[1:-1]\n",
    "print(\"Remoção do Outlier\")\n",
    "print(dados)"
   ]
  },
  {
   "cell_type": "markdown",
   "metadata": {},
   "source": [
    "# Teste de Shapiro-Wilk\n",
    "\n",
    "O **teste de Shapiro-Wilk** é uma técnica estatística amplamente utilizada para verificar a hipótese de normalidade de uma amostra de dados. A ideia central do teste é verificar se os dados observados seguem uma distribuição normal, que é um pré-requisito comum em diversas análises estatísticas.\n",
    "\n",
    "## Estatística do teste\n",
    "\n",
    "A estatística $W$ do teste de Shapiro-Wilk é dada pela fórmula:\n",
    "\n",
    "$$\n",
    "W = \\frac{\\left( \\sum_{i=1}^{n} a_i x_{(i)} \\right)^2}{\\sum_{i=1}^{n} (x_i - \\bar{x})^2}\n",
    "$$\n",
    "\n",
    "Onde:\n",
    "- $W$ é a estatística do teste, com valores próximos de 1 indicando que a amostra provavelmente vem de uma distribuição normal.\n",
    "- $n$ é o tamanho da amostra.\n",
    "- $x_{(i)}$ é o $i$-ésimo menor valor na amostra ordenada.\n",
    "- $\\bar{x}$ é a média dos dados da amostra.\n",
    "- $ a_i $ são coeficientes calculados a partir da média e da matriz de covariância de uma distribuição normal.\n",
    "\n",
    "### Explicação dos Termos\n",
    "\n",
    "- **$x_{(i)}$**: Representa os valores da amostra ordenados em ordem crescente. Este índice $i$ varia de 1 até $n$, onde  $n$ é o tamanho da amostra.\n",
    "  \n",
    "- **$\\bar{x}$**: A média dos valores da amostra, que é calculada como:\n",
    "\n",
    "$$\n",
    "\\bar{x} = \\frac{1}{n} \\sum_{i=1}^{n} x_i\n",
    "$$\n",
    "\n",
    "- **Coeficientes  $a_i$ **: São determinados a partir da matriz de covariância da distribuição normal esperada. Eles dependem do tamanho da amostra e são pré-calculados para diferentes tamanhos de $n$.\n",
    "\n",
    "## Como o teste funciona\n",
    "\n",
    "O valor de $W$ varia entre 0 e 1. Quanto mais próximo de 1 estiver o valor de $W$, maior é a evidência de que os dados seguem uma distribuição normal. Se o valor de $W$ estiver significativamente distante de 1, rejeitamos a hipótese nula de normalidade.\n",
    "\n",
    "### Passos do teste:\n",
    "1. **Hipótese nula**: Os dados seguem uma distribuição normal.\n",
    "2. **Hipótese alternativa**: Os dados não seguem uma distribuição normal.\n",
    "3. **Cálculo da estatística $W$**: Usamos a fórmula mencionada acima para calcular o valor de $W$.\n",
    "4. **Comparação com valores críticos**: O valor de $W$ é comparado com valores críticos ou $p$-valores pré-calculados. Se o $p$-valor for menor que o nível de significância escolhido (por exemplo, $\\alpha = 0.05$), rejeitamos a hipótese nula de normalidade.\n",
    "\n",
    "## Interpretação dos Resultados\n",
    "\n",
    "- $W \\approx 1$: Forte evidência de que os dados seguem uma distribuição normal.\n",
    "- **$W$ significativamente menor que 1**: Evidência de que os dados não seguem uma distribuição normal.\n",
    "\n"
   ]
  },
  {
   "cell_type": "code",
   "execution_count": 36,
   "metadata": {},
   "outputs": [
    {
     "name": "stdout",
     "output_type": "stream",
     "text": [
      "Estatística W: 0.9648773401009163\n",
      "p-valor: 0.855062795916117\n"
     ]
    }
   ],
   "source": [
    "\n",
    "# Dados fornecidos\n",
    "dados = np.array(dados)\n",
    "\n",
    "# Teste de Shapiro-Wilk\n",
    "stat, p_value = stats.shapiro(dados)\n",
    "\n",
    "# Exibir resultados\n",
    "print(f'Estatística W: {stat}')\n",
    "print(f'p-valor: {p_value}')"
   ]
  },
  {
   "cell_type": "markdown",
   "metadata": {},
   "source": [
    "# Interpretação dos Resultados na aplicação do Teste de Shapiro-Wilk\n",
    "\n",
    "No teste de Shapiro-Wilk realizado para uma amostra de tamanho 9, obtivemos os seguintes resultados:\n",
    "\n",
    "- **Estatística $W$**: 0.9648\n",
    "- **p-valor**: 0.8550\n",
    "\n",
    "## Estatística $W$\n",
    "\n",
    "A estatística $W$ é um valor calculado que mede a concordância dos dados com uma distribuição normal. Neste caso, o valor de $W$ é 0.9648, que está muito próximo de 1. Valores de $W$ próximos a 1 indicam que a amostra provavelmente segue uma distribuição normal. Portanto, a estatística $W$ sugere que não há evidências suficientes para rejeitar a hipótese de normalidade dos dados.\n",
    "\n",
    "## p-valor\n",
    "\n",
    "O $p$-valor é uma medida da evidência contra a hipótese nula (que, neste caso, é a suposição de que os dados seguem uma distribuição normal). Um $p$-valor elevado sugere que os dados não diferem significativamente de uma distribuição normal. Neste caso, o $p$-valor é 0.8550, que é bastante alto. Geralmente, um $p$-valor maior que 0.05 ou 0.10 indica que não devemos rejeitar a hipótese nula.\n",
    "\n",
    "## Conclusão\n",
    "\n",
    "Com base nos resultados apresentados, tanto a estatística $W$ quanto o $p$-valor indicam que não há evidências suficientes para afirmar que a amostra de dados se desvia de uma distribuição normal. Isso sugere que os dados podem ser considerados normalmente distribuídos, o que é uma boa notícia para a realização de análises estatísticas que assumem essa condição. A normalidade dos dados pode facilitar a aplicação de testes paramétricos e modelos que exigem essa suposição.\n",
    "\n",
    "Em resumo, podemos concluir que os dados, representados por essas 9 amostras, não apresentam evidências significativas de não normalidade e podem, portanto, ser tratados como provenientes de uma distribuição normal para fins de análise estatística.\n"
   ]
  },
  {
   "cell_type": "markdown",
   "metadata": {},
   "source": [
    "## Refinamento e Perspectivas Futuras\n",
    "\n",
    "A análise apresentada baseia-se na suposição de que os dados seguem uma distribuição normal, conforme confirmado pelo teste de Shapiro-Wilk, que não indicou desvios significativos dessa suposição. Esse é um ponto de partida sólido para a modelagem das transações e permite a aplicação de técnicas robustas, como a Simulação de Monte Carlo.\n",
    "\n",
    "No entanto, como uma medida de aprimoramento futuro, à medida que mais dados forem coletados, seria interessante considerar a exploração de distribuições alternativas, como a log-normal, ou até mesmo métodos não paramétricos. Isso poderia trazer ainda mais precisão em cenários que envolvem uma maior volatilidade ou transações financeiras com caudas longas. Embora os resultados atuais sejam confiáveis e bem fundamentados, tais refinamentos poderiam oferecer uma modelagem ainda mais robusta em contextos de incerteza."
   ]
  },
  {
   "cell_type": "markdown",
   "metadata": {},
   "source": [
    "# Simulação de Monte Carlo\n",
    "\n",
    "A seguir utilizaremos está simulação para dar sequencia a analise do dataset.\n",
    "\n",
    "A Simulação de Monte Carlo é uma técnica estatística que utiliza métodos de amostragem aleatória para estimar características de um sistema ou processo complexo. Essa abordagem é amplamente utilizada em diversas áreas, incluindo finanças, engenharia, ciência da computação e pesquisa operacional, principalmente quando é difícil ou impossível obter uma solução exata.\n",
    "\n",
    "## Objetivo da Simulação de Monte Carlo\n",
    "\n",
    "O principal objetivo da Simulação de Monte Carlo é modelar a incerteza de sistemas complexos e prever resultados possíveis. Ao gerar um grande número de simulações baseadas em variáveis aleatórias, podemos obter uma distribuição de resultados e avaliar a probabilidade de diferentes cenários ocorrerem.\n",
    "\n",
    "## Aplicação no Contexto de Previsão de Transações\n",
    "\n",
    "Neste experimento, utilizaremos a Simulação de Monte Carlo para estimar o total de transações para o próximo mês (novembro) com base em dados históricos. O procedimento será o seguinte:\n",
    "\n",
    "1. **Coleta de Dados**: Primeiro, reuniremos os dados das transações mensais anteriores para entender o comportamento histórico.\n",
    "\n",
    "2. **Cálculo da Média e do Desvio Padrão**: A partir dos dados coletados, calcularemos a média e o desvio padrão das somas mensais de transações. Esses parâmetros nos ajudarão a descrever a distribuição dos dados.\n",
    "\n",
    "3. **Simulação de Cenários**: Usaremos a média e o desvio padrão para simular um grande número de possíveis totais de transações para o próximo mês, assumindo que essas transações seguem uma distribuição normal.\n",
    "\n",
    "4. **Análise de Probabilidade**: Por fim, calcularemos a probabilidade de que o total de transações caia dentro de uma faixa específica. Isso nos permitirá entender melhor os riscos e as incertezas associadas a nossas previsões.\n",
    "\n",
    "Ao final, a Simulação de Monte Carlo nos proporcionará uma visão mais robusta sobre o desempenho futuro esperado, permitindo que tomemos decisões mais informadas em relação a planejamentos financeiros e orçamentários.\n"
   ]
  },
  {
   "cell_type": "code",
   "execution_count": 14,
   "metadata": {},
   "outputs": [
    {
     "data": {
      "text/plain": [
       "Mes Nome\n",
       "Janeiro      2125989.37\n",
       "Fevereiro    1921824.59\n",
       "Março        2168903.20\n",
       "Abril        2079301.21\n",
       "Maio         2213202.12\n",
       "Junho        2019877.97\n",
       "Julho        2239685.88\n",
       "Agosto       2146832.88\n",
       "Setembro     2059990.25\n",
       "Outubro       938395.58\n",
       "Name: Transaction Amount, dtype: float64"
      ]
     },
     "execution_count": 14,
     "metadata": {},
     "output_type": "execute_result"
    }
   ],
   "source": [
    "\n",
    "# Agrupar os dados por mês e somar as transações de cada mês\n",
    "transacoes_mensal_total = data.groupby('Mes Nome', observed=False)['Transaction Amount'].sum()\n",
    "transacoes_mensal_total"
   ]
  },
  {
   "cell_type": "code",
   "execution_count": 15,
   "metadata": {},
   "outputs": [
    {
     "data": {
      "text/plain": [
       "Mes Nome\n",
       "Janeiro      2125989.37\n",
       "Fevereiro    1921824.59\n",
       "Março        2168903.20\n",
       "Abril        2079301.21\n",
       "Maio         2213202.12\n",
       "Junho        2019877.97\n",
       "Julho        2239685.88\n",
       "Agosto       2146832.88\n",
       "Setembro     2059990.25\n",
       "Name: Transaction Amount, dtype: float64"
      ]
     },
     "execution_count": 15,
     "metadata": {},
     "output_type": "execute_result"
    }
   ],
   "source": [
    "# Ordenando os meses corretamente (pelo nome)\n",
    "meses_ordenados = ['Janeiro', 'Fevereiro', 'Março', 'Abril', 'Maio', 'Junho', 'Julho', 'Agosto', 'Setembro','Outubro']\n",
    "transacoes_mensal_total = transacoes_mensal_total.reindex(meses_ordenados)\n",
    "#Removendo Outlier\n",
    "transacoes_mensal_total = transacoes_mensal_total.drop('Outubro')\n",
    "\n",
    "transacoes_mensal_total"
   ]
  },
  {
   "cell_type": "code",
   "execution_count": 16,
   "metadata": {},
   "outputs": [
    {
     "name": "stdout",
     "output_type": "stream",
     "text": [
      "Média: 2108400.83\n",
      "Desvio Padrão: 99689.11232960422\n"
     ]
    }
   ],
   "source": [
    "# Calcular a média e o desvio padrão das somas mensais\n",
    "media_menses = transacoes_mensal_total.mean()\n",
    "desvio_padrao_meses = transacoes_mensal_total.std(ddof=1)\n",
    "\n",
    "print(f'Média: {media_menses}')\n",
    "print(f'Desvio Padrão: {desvio_padrao_meses}')\n"
   ]
  },
  {
   "cell_type": "code",
   "execution_count": 17,
   "metadata": {},
   "outputs": [
    {
     "name": "stdout",
     "output_type": "stream",
     "text": [
      "[1984680.10845426 2062813.12093784 1860303.91482692 ... 2059284.64860675\n",
      " 2137897.86777981 2066724.67503679] 1000000\n"
     ]
    }
   ],
   "source": [
    "# Número de simulações\n",
    "num_simulacoes = 1000000\n",
    "# Simulando a soma de transações para o próximo mês (novembro) usando distribuição normal\n",
    "somas_simuladas = np.random.normal(loc=media_menses, scale=desvio_padrao_meses, size=num_simulacoes)\n",
    "\n",
    "print(somas_simuladas,len(somas_simuladas))"
   ]
  },
  {
   "cell_type": "code",
   "execution_count": 30,
   "metadata": {},
   "outputs": [
    {
     "data": {
      "text/plain": [
       "0.223023"
      ]
     },
     "execution_count": 30,
     "metadata": {},
     "output_type": "execute_result"
    }
   ],
   "source": [
    "\n",
    "# Definindo faixa que queremos a probabilidade.\n",
    "faixa_especifica = (1950000, 2050000)\n",
    "# Calcular a probabilidade de a soma cair dentro dessa faixa\n",
    "probabilidade_faixa = np.sum((somas_simuladas >= faixa_especifica[0]) & (somas_simuladas <= faixa_especifica[1])) / num_simulacoes\n",
    "\n",
    "probabilidade_faixa"
   ]
  },
  {
   "cell_type": "code",
   "execution_count": 31,
   "metadata": {},
   "outputs": [
    {
     "data": {
      "image/png": "[encoded data removed]",
      "text/plain": [
       "<Figure size 1200x600 with 1 Axes>"
      ]
     },
     "metadata": {},
     "output_type": "display_data"
    },
    {
     "name": "stdout",
     "output_type": "stream",
     "text": [
      "A probabilidade de que o total de transações para o próximo esteja na faixa de 1950000 a 2050000 é de aproximadamente 22.30%.\n"
     ]
    }
   ],
   "source": [
    "# Visualizar os resultados em um gráfico de histograma\n",
    "plt.figure(figsize=(12, 6))  \n",
    "sns.histplot(somas_simuladas, bins=30, kde=True)\n",
    "plt.axvline(faixa_especifica[0], color='red', linestyle='--', label='Faixa especificada')\n",
    "plt.axvline(faixa_especifica[1], color='red', linestyle='--')\n",
    "plt.axvline(media_menses, color='green', linestyle='--', label='Média')\n",
    "plt.title('Distribuição Simulada do Total de Transações para Novembro',fontsize=16)\n",
    "plt.xlabel('Montante de Transações no Próximo Mês')\n",
    "plt.ylabel('Frequência')\n",
    "plt.legend()\n",
    "plt.grid(axis='y') \n",
    "plt.show()\n",
    "\n",
    "# Imprimir o resultado da probabilidade\n",
    "print(f\"A probabilidade de que o total de transações para o próximo esteja na faixa de {faixa_especifica[0]} a {faixa_especifica[1]} é de aproximadamente {probabilidade_faixa:.2%}.\")\n"
   ]
  }
 ],
 "metadata": {
  "kernelspec": {
   "display_name": "base",
   "language": "python",
   "name": "python3"
  },
  "language_info": {
   "codemirror_mode": {
    "name": "ipython",
    "version": 3
   },
   "file_extension": ".py",
   "mimetype": "text/x-python",
   "name": "python",
   "nbconvert_exporter": "python",
   "pygments_lexer": "ipython3",
   "version": "3.12.4"
  }
 },
 "nbformat": 4,
 "nbformat_minor": 2
}
